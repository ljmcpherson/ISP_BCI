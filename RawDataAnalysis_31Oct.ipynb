{
  "cells": [
    {
      "cell_type": "markdown",
      "metadata": {
        "id": "view-in-github",
        "colab_type": "text"
      },
      "source": [
        "<a href=\"https://colab.research.google.com/github/ljmcpherson/ISP_BCI/blob/main/RawDataAnalysis_31Oct.ipynb\" target=\"_parent\"><img src=\"https://colab.research.google.com/assets/colab-badge.svg\" alt=\"Open In Colab\"/></a>"
      ]
    },
    {
      "cell_type": "code",
      "source": [
        "from google.colab import drive\n",
        "drive.mount('/content/drive')"
      ],
      "metadata": {
        "colab": {
          "base_uri": "https://localhost:8080/"
        },
        "id": "KhniFxhzQ1gz",
        "outputId": "26f5f9c0-de3e-41ab-a105-4be8196ad7df"
      },
      "execution_count": null,
      "outputs": [
        {
          "output_type": "stream",
          "name": "stdout",
          "text": [
            "Mounted at /content/drive\n"
          ]
        }
      ]
    },
    {
      "cell_type": "code",
      "source": [
        "import os"
      ],
      "metadata": {
        "id": "9P_6ZiJp5b2l"
      },
      "execution_count": null,
      "outputs": []
    },
    {
      "cell_type": "code",
      "execution_count": null,
      "metadata": {
        "id": "Zhl34UeP8x64"
      },
      "outputs": [],
      "source": [
        "import scipy.io\n",
        "import numpy as np"
      ]
    },
    {
      "cell_type": "code",
      "execution_count": null,
      "metadata": {
        "id": "R0olGK5V81r_"
      },
      "outputs": [],
      "source": [
        "mat_file = scipy.io.loadmat('/content/drive/Shareddrives/Impact Scholars /Computational Neuroscience/Akito Adaptive Modeling/Raw Data/motor_basic/motor_basic/data/bp_mot_t_h.mat')\n",
        "#mat_file = scipy.io.loadmat('sub2_comp.mat')\n"
      ]
    },
    {
      "cell_type": "code",
      "execution_count": null,
      "metadata": {
        "id": "GWCuEJ1s9Rjp",
        "colab": {
          "base_uri": "https://localhost:8080/"
        },
        "outputId": "30647e12-536d-4401-f6e0-0096153402e2"
      },
      "outputs": [
        {
          "output_type": "stream",
          "name": "stdout",
          "text": [
            "dict_keys(['__header__', '__version__', '__globals__', 'data', 'stim'])\n"
          ]
        }
      ],
      "source": [
        "# Print the keys in the .mat file\n",
        "print(mat_file.keys())"
      ]
    },
    {
      "cell_type": "code",
      "execution_count": null,
      "metadata": {
        "id": "GhYKHjJT9We_"
      },
      "outputs": [],
      "source": [
        "# Extract the variable of interest\n",
        "ecog_signal = mat_file['data']\n",
        "stim = mat_file['stim']"
      ]
    },
    {
      "cell_type": "code",
      "source": [
        "count = np.sum(stim == 12)\n",
        "print(count)"
      ],
      "metadata": {
        "id": "YzHKuF5m737M",
        "colab": {
          "base_uri": "https://localhost:8080/"
        },
        "outputId": "4579d36c-d9d2-4795-8ef3-1e861c762004"
      },
      "execution_count": null,
      "outputs": [
        {
          "output_type": "stream",
          "name": "stdout",
          "text": [
            "90000\n"
          ]
        }
      ]
    },
    {
      "cell_type": "code",
      "source": [
        "def find_consecutive_ones_with_indices(arr, temp):\n",
        "    max_count = 0\n",
        "    current_count = 0\n",
        "    max_start_index = -1\n",
        "    max_end_index = -1\n",
        "    current_start_index = 0\n",
        "\n",
        "    for i, num in enumerate(arr):\n",
        "        if num == temp:\n",
        "            if current_count == 0:\n",
        "                current_start_index = i\n",
        "            current_count += 1\n",
        "            if current_count > max_count:\n",
        "                max_count = current_count\n",
        "                max_start_index = current_start_index\n",
        "                max_end_index = i\n",
        "        else:\n",
        "            current_count = 0\n",
        "\n",
        "    return max_count, max_start_index, max_end_index\n"
      ],
      "metadata": {
        "id": "zduOj9LS9Xgk"
      },
      "execution_count": null,
      "outputs": []
    },
    {
      "cell_type": "code",
      "source": [
        "# Find the maximum length of consecutive 1s and their indices\n",
        "max_consecutive_ones, start_index, end_index = find_consecutive_ones_with_indices(stim, 11)\n",
        "print(f'Maximum length of consecutive 11s: {max_consecutive_ones}')\n",
        "print(f'Start index: {start_index}')\n",
        "print(f'End index: {end_index}')\n",
        "# Find the maximum length of consecutive 1s and their indices\n",
        "max_consecutive_ones, start_index, end_index = find_consecutive_ones_with_indices(stim, 12)\n",
        "print(f'Maximum length of consecutive 12s: {max_consecutive_ones}')\n",
        "print(f'Start index: {start_index}')\n",
        "print(f'End index: {end_index}')"
      ],
      "metadata": {
        "id": "6bHYeN0S9fTc",
        "colab": {
          "base_uri": "https://localhost:8080/"
        },
        "outputId": "4edfe186-8bdb-4f7e-f0c0-7058f0eec6b0"
      },
      "execution_count": null,
      "outputs": [
        {
          "output_type": "stream",
          "name": "stdout",
          "text": [
            "Maximum length of consecutive 11s: 3000\n",
            "Start index: 28240\n",
            "End index: 31239\n",
            "Maximum length of consecutive 12s: 3000\n",
            "Start index: 10160\n",
            "End index: 13159\n"
          ]
        }
      ]
    },
    {
      "cell_type": "code",
      "execution_count": null,
      "metadata": {
        "id": "FFAXoku1MPZZ"
      },
      "outputs": [],
      "source": [
        "from scipy.signal import butter, filtfilt, iirnotch"
      ]
    },
    {
      "cell_type": "code",
      "execution_count": null,
      "metadata": {
        "id": "jUeUG-R8LDoR"
      },
      "outputs": [],
      "source": [
        "# Bandpass filter (e.g., 1-150 Hz)\n",
        "def bandpass_filter(data, lowcut, highcut, fs, order=5):\n",
        "    nyquist = 0.5 * fs\n",
        "    low = lowcut / nyquist\n",
        "    high = highcut / nyquist\n",
        "    b, a = butter(order, [low, high], btype='band')\n",
        "    y = filtfilt(b, a, data)\n",
        "    return y\n",
        "\n",
        "# Apply the bandpass filter\n",
        "filtered_signal = bandpass_filter(ecog_signal, 1, 150, 1000)\n"
      ]
    },
    {
      "cell_type": "code",
      "execution_count": null,
      "metadata": {
        "id": "iwg08HIAM08e"
      },
      "outputs": [],
      "source": [
        "# Design a notch filter\n",
        "f0 = 50.0  # Frequency to be removed from signal (Hz)\n",
        "Q = 30.0   # Quality factor\n",
        "fs = 1000.0  # Sampling frequency (Hz)\n",
        "\n",
        "# Create the notch filter\n",
        "b, a = iirnotch(f0, Q, fs)\n",
        "\n",
        "# Apply the notch filter\n",
        "notch_signal = filtfilt(b, a, filtered_signal)\n",
        "\n"
      ]
    },
    {
      "cell_type": "code",
      "execution_count": null,
      "metadata": {
        "id": "iDGkbzbQOab1"
      },
      "outputs": [],
      "source": [
        "!pip install mne\n",
        "import mne"
      ]
    },
    {
      "cell_type": "code",
      "execution_count": null,
      "metadata": {
        "id": "2uzh4NBtQTiU",
        "colab": {
          "base_uri": "https://localhost:8080/"
        },
        "outputId": "ed9c2944-a97c-4442-c327-0c7bc52dd8d3"
      },
      "outputs": [
        {
          "output_type": "stream",
          "name": "stdout",
          "text": [
            "Shape of truncated_signal: (376400, 47)\n"
          ]
        }
      ],
      "source": [
        "# Alternatively, truncating to the shortest length\n",
        "min_length = min(len(channel) for channel in ecog_signal)\n",
        "truncated_signal = np.array([channel[:min_length] for channel in ecog_signal])\n",
        "print('Shape of truncated_signal:', truncated_signal.shape)"
      ]
    },
    {
      "cell_type": "code",
      "source": [
        "def PSD():\n",
        "  from scipy.signal import welch, find_peaks\n",
        "\n",
        "  sampling_rate = 1000  # Hz\n",
        "  data = ecog_signal\n",
        "  n_channels = data.shape[1]\n",
        "  # Perform spectral analysis on each channel and average the results\n",
        "  frequencies, power = welch(data[:, 0], fs=sampling_rate, nperseg=1024)\n",
        "  avg_power = np.zeros_like(power)\n",
        "\n",
        "  for i in range(n_channels):\n",
        "    _, power = welch(data[:, i], fs=sampling_rate, nperseg=1024)\n",
        "    avg_power += power\n",
        "\n",
        "  avg_power /= n_channels\n",
        "\n",
        "  # Find peaks in the averaged power spectrum\n",
        "  peaks, _ = find_peaks(avg_power, height=0.1)  # Adjust height threshold as needed\n",
        "  return power, frequencies.flatten()\n",
        "# Plot the power spectrum and mark the peaks\n",
        "#plt.semilogy(frequencies, avg_power)\n",
        "#plt.plot(frequencies[peaks], avg_power[peaks], 'ro')\n",
        "#plt.xlabel('Frequency (Hz)')\n",
        "#plt.ylabel('Power')\n",
        "#plt.title('Spectral Analysis of ECoG Data')\n",
        "#plt.show()\n",
        "\n",
        "# Print the identified frequency ranges\n",
        "#print(\"Identified frequency ranges (Hz):\", frequencies[peaks])\n"
      ],
      "metadata": {
        "id": "vQGuRE8NbAqx"
      },
      "execution_count": null,
      "outputs": []
    },
    {
      "cell_type": "code",
      "source": [
        "#@title SSD Implementation\n",
        "from scipy.linalg import eigh\n",
        "\n",
        "class SSD:\n",
        "    def __init__(self, n_components=25):\n",
        "        self.n_components = n_components\n",
        "        self.filters_ = None\n",
        "\n",
        "    def fit(self, X, sampling_rate, bandpass_freq):\n",
        "        # Band-pass filter the data\n",
        "        X_bandpass = self._bandpass_filter(X, sampling_rate, bandpass_freq)\n",
        "\n",
        "        # Compute covariance matrices\n",
        "        C_bandpass = np.cov(X_bandpass.T)\n",
        "        C_raw = np.cov(X.T)\n",
        "\n",
        "        # Solve the generalized eigenvalue problem\n",
        "        _, V = eigh(C_bandpass, C_raw)\n",
        "\n",
        "        # Select the top n_components eigenvectors\n",
        "        self.filters_ = V[:, :self.n_components]\n",
        "\n",
        "    def transform(self, X):\n",
        "        # Apply spatial filters to the data\n",
        "        return X @ self.filters_\n",
        "\n",
        "    def _bandpass_filter(self, X, sampling_rate, bandpass_freq):\n",
        "        from scipy.signal import butter, lfilter\n",
        "\n",
        "        nyquist = 0.5 * sampling_rate\n",
        "        low, high = bandpass_freq[0] / nyquist, bandpass_freq[1] / nyquist\n",
        "        b, a = butter(1, [low, high], btype='band')\n",
        "\n",
        "        return lfilter(b, a, X, axis=0)\n",
        "\n",
        "# Example usage\n",
        "# X is a 2D array with shape (n_timepoints, n_channels)\n",
        "# sampling_rate is the sampling rate of the data\n",
        "# bandpass_freq is a tuple of low and high frequencies for band-pass filtering\n",
        "X = ecog_signal # Example ECoG data\n",
        "sampling_rate = 1000  # Example sampling rate in Hz\n",
        "bandpass_freq = (0.1, 100)  # Example band-pass filter range in Hz\n",
        "\n",
        "ssd = SSD(n_components=25)\n",
        "ssd.fit(X, sampling_rate, bandpass_freq)\n",
        "X_transformed = ssd.transform(X)\n",
        "\n",
        "print(X_transformed.shape)  # Output shape: (300000, 2)\n"
      ],
      "metadata": {
        "id": "6Tnm-0Gv-nC6",
        "cellView": "form"
      },
      "execution_count": null,
      "outputs": []
    },
    {
      "cell_type": "code",
      "source": [
        "import matplotlib.pyplot as plt\n",
        "\n",
        "# Assuming X_transformed is the SSD-transformed data with shape (n_timepoints, n_components)\n",
        "  # Replace with your actual transformed data\n",
        "\n",
        "for i in range(X_transformed.shape[1]):\n",
        "# Plot the first component\n",
        "  plt.figure(figsize=(15, 5))\n",
        "  plt.plot(X_transformed[:, i], label=f'Component {i+1}')\n",
        "  plt.xlabel('Time Points')\n",
        "  plt.ylabel('Amplitude')\n",
        "  plt.title('SSD Component 1')\n",
        "  plt.legend()\n",
        "  plt.show()\n",
        "\n"
      ],
      "metadata": {
        "id": "HEfCBXHv-_uY"
      },
      "execution_count": null,
      "outputs": []
    },
    {
      "cell_type": "code",
      "source": [
        "def compute_snr(components):\n",
        "  snr = []\n",
        "  for component in components.T:\n",
        "    signal_power = np.mean(component**2)\n",
        "    noise_power = np.var(component - np.mean(component))\n",
        "    snr.append(10 * np.log10(signal_power / noise_power))\n",
        "  return snr"
      ],
      "metadata": {
        "id": "xGowRFkQhJBS"
      },
      "execution_count": null,
      "outputs": []
    },
    {
      "cell_type": "code",
      "source": [
        "snr = compute_snr(X_transformed)"
      ],
      "metadata": {
        "id": "oqWV7XsShWXd"
      },
      "execution_count": null,
      "outputs": []
    },
    {
      "cell_type": "code",
      "source": [
        "plt.figure(figsize=(10, 6))\n",
        "plt.plot(range(1, len(snr) + 1), snr, marker='o')\n",
        "plt.xlabel('Component')\n",
        "plt.ylabel('SNR (dB)')\n",
        "plt.title('SNR of SSD Components')\n",
        "plt.grid(True)\n",
        "plt.show()"
      ],
      "metadata": {
        "id": "iqwwxv3uhXtN"
      },
      "execution_count": null,
      "outputs": []
    },
    {
      "cell_type": "code",
      "source": [
        "import sys\n",
        "sys.path.insert(0,'/content/drive/Shareddrives/Impact Scholars /Computational Neuroscience/Akito Adaptive Modeling/Program Components')"
      ],
      "metadata": {
        "id": "pqJuYzsi1H3o"
      },
      "execution_count": null,
      "outputs": []
    },
    {
      "cell_type": "code",
      "source": [
        "import ssd"
      ],
      "metadata": {
        "id": "YMbJ_tL07D1O"
      },
      "execution_count": null,
      "outputs": []
    },
    {
      "cell_type": "code",
      "source": [
        "!pip install pyvista"
      ],
      "metadata": {
        "id": "U_h3SKg-8Lqm"
      },
      "execution_count": null,
      "outputs": []
    },
    {
      "cell_type": "code",
      "source": [
        "!pip install fooof"
      ],
      "metadata": {
        "id": "OtEVjvyT8Yxd"
      },
      "execution_count": null,
      "outputs": []
    },
    {
      "cell_type": "code",
      "source": [
        "import fooof"
      ],
      "metadata": {
        "id": "2-En3ssuCx1J"
      },
      "execution_count": null,
      "outputs": []
    },
    {
      "cell_type": "code",
      "source": [
        "import helper"
      ],
      "metadata": {
        "id": "0W1dXclm8FF-"
      },
      "execution_count": null,
      "outputs": []
    },
    {
      "cell_type": "code",
      "source": [
        "from ssd import run_ssd, apply_filters"
      ],
      "metadata": {
        "id": "ZN2wxEG61WV0"
      },
      "execution_count": null,
      "outputs": []
    },
    {
      "cell_type": "code",
      "source": [
        "ecog_signal.shape"
      ],
      "metadata": {
        "colab": {
          "base_uri": "https://localhost:8080/"
        },
        "id": "w7omPB4BApee",
        "outputId": "8d370939-c862-4de5-fd7a-ab4b5d9af4a6"
      },
      "execution_count": null,
      "outputs": [
        {
          "output_type": "execute_result",
          "data": {
            "text/plain": [
              "(376400, 47)"
            ]
          },
          "metadata": {},
          "execution_count": 27
        }
      ]
    },
    {
      "cell_type": "code",
      "source": [
        "from mne.time_frequency import psd_array_welch"
      ],
      "metadata": {
        "id": "b45NuAAh-CiD"
      },
      "execution_count": null,
      "outputs": []
    },
    {
      "cell_type": "code",
      "source": [
        "def get_SNR(raw, fmin=1, fmax=55, seconds=3, freq=[8, 13]):\n",
        "    \"\"\"Compute power spectrum and calculate 1/f-corrected SNR in one band.\n",
        "\n",
        "    Parameters\n",
        "    ----------\n",
        "    raw : instance of Raw\n",
        "        Raw instance containing traces for which to compute SNR\n",
        "    fmin : float\n",
        "        minimum frequency that is used for fitting spectral model.\n",
        "    fmax : float\n",
        "        maximum frequency that is used for fitting spectral model.\n",
        "    seconds: float\n",
        "        Window length in seconds, converts to FFT points for PSD calculation.\n",
        "    freq : list | [8, 13]\n",
        "        SNR in that frequency window is computed.\n",
        "    Returns\n",
        "    -------\n",
        "    SNR : array, 1-D\n",
        "        Contains SNR (1/f-corrected, for a chosen frequency) for each channel.\n",
        "    \"\"\"\n",
        "    SNR = np.zeros(((376400, 47)))\n",
        "    n_fft = int(seconds * raw.info[\"sfreq\"])\n",
        "    psd, freqs = PSD()\n",
        "    print(freqs.shape)\n",
        "    print(psd.shape)\n",
        "    fm = fooof.FOOOFGroup()\n",
        "    fm.fit(freqs, psd)\n",
        "\n",
        "    for pick in range(len(raw.ch_names)):\n",
        "        psd_corr = 10 * np.log10(psd[pick]) - 10 * fm.get_fooof(pick)._ap_fit\n",
        "        idx = np.where((freqs > freq[0]) & (freqs < freq[1]))[0]\n",
        "        idx_max = np.argmax(psd_corr[idx])\n",
        "        SNR[pick] = psd_corr[idx][idx_max]\n",
        "\n",
        "    return SNR\n"
      ],
      "metadata": {
        "id": "_L8jogX7_Dxl"
      },
      "execution_count": null,
      "outputs": []
    },
    {
      "cell_type": "code",
      "source": [
        "#@title Natalie paper\n",
        "import numpy as np\n",
        "import helper\n",
        "\n",
        "import matplotlib.pyplot as plt\n",
        "import matplotlib.gridspec as gridspec\n",
        "\n",
        "\n",
        "plt.ion()\n",
        "exp_id = \"motor_basic\"\n",
        "participant = \"ug\"\n",
        "\n",
        "# -- load continuous data\n",
        "# Create MNE Info object\n",
        "ch_names = [f'Ch{i}' for i in range(1, ecog_signal.shape[1] + 1)]  # Example channel names\n",
        "info = mne.create_info(ch_names=ch_names, sfreq=1000, ch_types='ecog')\n",
        "data = ecog_signal\n",
        "# Create Raw object\n",
        "raw = mne.io.RawArray(data.T, info)\n",
        "raw.pick_types(ecog=True)\n",
        "raw_org = raw.copy()\n",
        "\n",
        "# -- apply SSD and compute SNR for all components\n",
        "bin_width = 1.2\n",
        "peak = 9.46\n",
        "nr_components = 25\n",
        "\n",
        "filters, patterns = ssd.run_ssd(raw_org, peak, bin_width)\n",
        "raw_ssd = ssd.apply_filters(raw_org, filters)\n",
        "\n",
        "# -- SSD is polarity invariant, align to electrode signals by visual inspection\n",
        "signs = [1, -1, -1]\n",
        "for i_s, sign in enumerate(signs):\n",
        "    patterns[:, i_s] *= sign\n",
        "    raw_ssd._data[i_s] *= sign\n",
        "\n",
        "\n",
        "SNR_ssd = get_SNR(raw_ssd, freq=[peak - 2, peak + 2])\n",
        "raw_ssd.pick(range(nr_components))\n",
        "\n",
        "# -- select electrodes and compute SNR for the selected peak frequency\n",
        "ch_names = [\"ecog16\", \"ecog10\", \"ecog20\"]\n",
        "picks = mne.pick_channels(raw.ch_names, ch_names, ordered=True)\n",
        "raw.pick(picks)\n",
        "SNR_electrodes = helper.get_SNR(raw, freq=[peak - 2, peak + 2])\n",
        "\n",
        "# -- create figure\n",
        "fig = plt.figure()\n",
        "outer_grid = gridspec.GridSpec(2, 1, height_ratios=[2.5, 1])\n",
        "top_cell = outer_grid[0, :]\n",
        "bottom_cell = outer_grid[1, :]\n",
        "gs = gridspec.GridSpecFromSubplotSpec(\n",
        "    2, 3, top_cell, width_ratios=[1.25, 2.5, 1]\n",
        ")\n",
        "\n",
        "# -- plot electrode PSD + SNR\n",
        "ax1 = plt.subplot(gs[0, 0])\n",
        "cmap1 = [\"#2d004f\", \"#254f00\", \"#000000\"]\n",
        "helper.plot_psd(\n",
        "    ax1,\n",
        "    raw,\n",
        "    cmap=cmap1,\n",
        "    SNR=SNR_electrodes,\n",
        "    peak=peak,\n",
        "    bin_width=bin_width,\n",
        ")\n",
        "\n",
        "# -- plot PSD for SSD component\n",
        "ax1 = plt.subplot(gs[1, 0])\n",
        "cmap = [plt.cm.viridis(i) for i in np.linspace(0.2, 1, 4)]\n",
        "\n",
        "helper.plot_psd(\n",
        "    ax1, raw_ssd, cmap=cmap, SNR=SNR_ssd, peak=peak, bin_width=bin_width\n",
        ")\n",
        "\n",
        "# -- plot time domain signals\n",
        "tmin = 4\n",
        "tmax = tmin + 2\n",
        "\n",
        "raw_ssd.filter(2, None)\n",
        "raw.filter(2, None)\n",
        "\n",
        "raw.crop(tmin, tmax)\n",
        "raw_ssd.crop(tmin, tmax)\n",
        "\n",
        "# -- plot electrode signals\n",
        "ax1 = plt.subplot(gs[0, 1])\n",
        "helper.plot_timeseries(ax1, raw, cmap=cmap1, label=\"\")\n",
        "ax1.set_xlabel(\"time [ms]\")\n",
        "\n",
        "\n",
        "# -- pattern coefficients\n",
        "ax_cont = plt.subplot(gs[0, 2])\n",
        "\n",
        "contributions = patterns[picks, :nr_components]\n",
        "vmax = np.max(np.abs(contributions))\n",
        "ax_cont.imshow(contributions, cmap=\"RdBu_r\", vmax=vmax, vmin=-vmax)\n",
        "ax_cont.set(yticks=[])\n",
        "ax_cont.set_xticks(range(nr_components))\n",
        "ax_cont.set_xticklabels([\"comp.%i\" % (i + 1) for i in range(nr_components)])\n",
        "\n",
        "\n",
        "for (j, i), label in np.ndenumerate(contributions):\n",
        "    ax_cont.text(i, j, \"%.2f\" % label, ha=\"center\", va=\"center\")\n",
        "\n",
        "\n",
        "# -- plot SSD time series\n",
        "ax1 = plt.subplot(gs[1, 1])\n",
        "helper.plot_timeseries(ax1, raw_ssd, cmap=cmap, label=\"\")\n",
        "ax1.set_xlabel(\"time [ms]\")\n",
        "for i_chan in range(nr_components):\n",
        "    ax1.text(0, -i_chan + 0.35, \"component %i\" % (i_chan + 1))\n",
        "\n",
        "\n",
        "# -- plot SNR for SSD components\n",
        "ax1 = plt.subplot(gs[1, 2])\n",
        "ax1.plot(SNR_ssd, \".-\", color=\"k\", markeredgecolor=\"w\", markersize=8)\n",
        "for i in range(nr_components):\n",
        "    ax1.plot(\n",
        "        i, SNR_ssd[i], \".\", color=cmap[i], markeredgecolor=\"w\", markersize=12\n",
        "    )\n",
        "ax1.set(xlabel=\"component number\", ylabel=\"SNR [dB]\")\n",
        "\n",
        "\n",
        "# -- plot filters\n",
        "gs2 = gridspec.GridSpecFromSubplotSpec(1, 7, bottom_cell)\n",
        "topo_size = 0.26\n",
        "\n",
        "for i in range(nr_components):\n",
        "\n",
        "    ax = plt.Axes(fig, rect=[i * 0.18 + 0.35, 0.12, topo_size, topo_size])\n",
        "    ax1 = fig.add_axes(ax)\n",
        "\n",
        "    im_filters = helper.make_topoplot(\n",
        "        filters[:, i],\n",
        "        raw_org.info,\n",
        "        ax,\n",
        "        plot_head=False,\n",
        "        picks=picks,\n",
        "        cmap=\"PiYG\",\n",
        "        pick_color=[\"dimgrey\"],\n",
        "        vmin=-0.75,\n",
        "        vmax=0.75,\n",
        "    )\n",
        "\n",
        "    ax1.set_ylim(-0.04, 0.04)\n",
        "    ax1.set_xlim(-0.08, 0.08)\n",
        "\n",
        "# -- plot patterns\n",
        "for i in range(nr_components):\n",
        "\n",
        "    ax = plt.Axes(fig, rect=[i * 0.18 + 0.35, -0.05, topo_size, topo_size])\n",
        "    ax1 = fig.add_axes(ax)\n",
        "\n",
        "    im_patterns = helper.make_topoplot(\n",
        "        patterns[:, i],\n",
        "        raw_org.info,\n",
        "        ax1,\n",
        "        plot_head=False,\n",
        "        picks=picks,\n",
        "        cmap=\"RdBu_r\",\n",
        "        vmin=-1.5,\n",
        "        vmax=1.5,\n",
        "        pick_color=[\"dimgrey\"],\n",
        "    )\n",
        "\n",
        "    ax1.set_title(\"component %i\" % (i + 1))\n",
        "    ax1.set_ylim(-0.04, 0.04)\n",
        "    ax1.set_xlim(-0.08, 0.08)\n",
        "\n",
        "\n",
        "# -- filters & patterns colorbars\n",
        "ax = plt.Axes(fig, rect=[0.3, 0.225, 0.15, 0.025])\n",
        "ax1 = fig.add_axes(ax)\n",
        "cb = plt.colorbar(im_filters, cax=ax1, orientation=\"horizontal\")\n",
        "ax1.set_title(\"spatial filters\")\n",
        "\n",
        "ax = plt.Axes(fig, rect=[0.3, 0.05, 0.15, 0.025])\n",
        "ax1 = fig.add_axes(ax)\n",
        "cb = plt.colorbar(im_patterns, cax=ax1, orientation=\"horizontal\")\n",
        "ax1.set_title(\"spatial patterns\")\n",
        "\n",
        "# -- electrodes on topo head\n",
        "ax = plt.Axes(fig, rect=[0.0, 0.02, topo_size, topo_size])\n",
        "ax1 = fig.add_axes(ax)\n",
        "mask = np.zeros((len(raw_org.ch_names)), dtype=\"bool\")\n",
        "mask[picks] = True\n",
        "mne.viz.plot_topomap(\n",
        "    np.zeros((len(raw_org.ch_names),)) + np.nan,\n",
        "    raw_org.info,\n",
        "    axes=ax1,\n",
        "    mask=mask,\n",
        ")\n",
        "\n",
        "fig.set_size_inches(7.5, 6)\n",
        "\n",
        "fig.show()"
      ],
      "metadata": {
        "id": "H6tTC5han2cm",
        "colab": {
          "base_uri": "https://localhost:8080/",
          "height": 477
        },
        "outputId": "4c80a11a-6308-48fd-daf7-3b65c1e66b8a"
      },
      "execution_count": null,
      "outputs": [
        {
          "output_type": "stream",
          "name": "stdout",
          "text": [
            "Creating RawArray with float64 data, n_channels=47, n_times=376400\n",
            "    Range : 0 ... 376399 =      0.000 ...   376.399 secs\n",
            "Ready.\n",
            "NOTE: pick_types() is a legacy function. New code should use inst.pick(...).\n",
            "(513,)\n",
            "(513,)\n"
          ]
        },
        {
          "output_type": "error",
          "ename": "DataError",
          "evalue": "Inputs are not the right dimensions.",
          "traceback": [
            "\u001b[0;31m---------------------------------------------------------------------------\u001b[0m",
            "\u001b[0;31mDataError\u001b[0m                                 Traceback (most recent call last)",
            "\u001b[0;32m<ipython-input-45-e535e4ad6f61>\u001b[0m in \u001b[0;36m<cell line: 38>\u001b[0;34m()\u001b[0m\n\u001b[1;32m     36\u001b[0m \u001b[0;34m\u001b[0m\u001b[0m\n\u001b[1;32m     37\u001b[0m \u001b[0;34m\u001b[0m\u001b[0m\n\u001b[0;32m---> 38\u001b[0;31m \u001b[0mSNR_ssd\u001b[0m \u001b[0;34m=\u001b[0m \u001b[0mget_SNR\u001b[0m\u001b[0;34m(\u001b[0m\u001b[0mraw_ssd\u001b[0m\u001b[0;34m,\u001b[0m \u001b[0mfreq\u001b[0m\u001b[0;34m=\u001b[0m\u001b[0;34m[\u001b[0m\u001b[0mpeak\u001b[0m \u001b[0;34m-\u001b[0m \u001b[0;36m2\u001b[0m\u001b[0;34m,\u001b[0m \u001b[0mpeak\u001b[0m \u001b[0;34m+\u001b[0m \u001b[0;36m2\u001b[0m\u001b[0;34m]\u001b[0m\u001b[0;34m)\u001b[0m\u001b[0;34m\u001b[0m\u001b[0;34m\u001b[0m\u001b[0m\n\u001b[0m\u001b[1;32m     39\u001b[0m \u001b[0mraw_ssd\u001b[0m\u001b[0;34m.\u001b[0m\u001b[0mpick\u001b[0m\u001b[0;34m(\u001b[0m\u001b[0mrange\u001b[0m\u001b[0;34m(\u001b[0m\u001b[0mnr_components\u001b[0m\u001b[0;34m)\u001b[0m\u001b[0;34m)\u001b[0m\u001b[0;34m\u001b[0m\u001b[0;34m\u001b[0m\u001b[0m\n\u001b[1;32m     40\u001b[0m \u001b[0;34m\u001b[0m\u001b[0m\n",
            "\u001b[0;32m<ipython-input-42-4db925350fc6>\u001b[0m in \u001b[0;36mget_SNR\u001b[0;34m(raw, fmin, fmax, seconds, freq)\u001b[0m\n\u001b[1;32m     25\u001b[0m     \u001b[0mprint\u001b[0m\u001b[0;34m(\u001b[0m\u001b[0mpsd\u001b[0m\u001b[0;34m.\u001b[0m\u001b[0mshape\u001b[0m\u001b[0;34m)\u001b[0m\u001b[0;34m\u001b[0m\u001b[0;34m\u001b[0m\u001b[0m\n\u001b[1;32m     26\u001b[0m     \u001b[0mfm\u001b[0m \u001b[0;34m=\u001b[0m \u001b[0mfooof\u001b[0m\u001b[0;34m.\u001b[0m\u001b[0mFOOOFGroup\u001b[0m\u001b[0;34m(\u001b[0m\u001b[0;34m)\u001b[0m\u001b[0;34m\u001b[0m\u001b[0;34m\u001b[0m\u001b[0m\n\u001b[0;32m---> 27\u001b[0;31m     \u001b[0mfm\u001b[0m\u001b[0;34m.\u001b[0m\u001b[0mfit\u001b[0m\u001b[0;34m(\u001b[0m\u001b[0mfreqs\u001b[0m\u001b[0;34m,\u001b[0m \u001b[0mpsd\u001b[0m\u001b[0;34m)\u001b[0m\u001b[0;34m\u001b[0m\u001b[0;34m\u001b[0m\u001b[0m\n\u001b[0m\u001b[1;32m     28\u001b[0m \u001b[0;34m\u001b[0m\u001b[0m\n\u001b[1;32m     29\u001b[0m     \u001b[0;32mfor\u001b[0m \u001b[0mpick\u001b[0m \u001b[0;32min\u001b[0m \u001b[0mrange\u001b[0m\u001b[0;34m(\u001b[0m\u001b[0mlen\u001b[0m\u001b[0;34m(\u001b[0m\u001b[0mraw\u001b[0m\u001b[0;34m.\u001b[0m\u001b[0mch_names\u001b[0m\u001b[0;34m)\u001b[0m\u001b[0;34m)\u001b[0m\u001b[0;34m:\u001b[0m\u001b[0;34m\u001b[0m\u001b[0;34m\u001b[0m\u001b[0m\n",
            "\u001b[0;32m/usr/local/lib/python3.10/dist-packages/fooof/objs/group.py\u001b[0m in \u001b[0;36mfit\u001b[0;34m(self, freqs, power_spectra, freq_range, n_jobs, progress)\u001b[0m\n\u001b[1;32m    259\u001b[0m         \u001b[0;31m# If freqs & power spectra provided together, add data to object\u001b[0m\u001b[0;34m\u001b[0m\u001b[0;34m\u001b[0m\u001b[0m\n\u001b[1;32m    260\u001b[0m         \u001b[0;32mif\u001b[0m \u001b[0mfreqs\u001b[0m \u001b[0;32mis\u001b[0m \u001b[0;32mnot\u001b[0m \u001b[0;32mNone\u001b[0m \u001b[0;32mand\u001b[0m \u001b[0mpower_spectra\u001b[0m \u001b[0;32mis\u001b[0m \u001b[0;32mnot\u001b[0m \u001b[0;32mNone\u001b[0m\u001b[0;34m:\u001b[0m\u001b[0;34m\u001b[0m\u001b[0;34m\u001b[0m\u001b[0m\n\u001b[0;32m--> 261\u001b[0;31m             \u001b[0mself\u001b[0m\u001b[0;34m.\u001b[0m\u001b[0madd_data\u001b[0m\u001b[0;34m(\u001b[0m\u001b[0mfreqs\u001b[0m\u001b[0;34m,\u001b[0m \u001b[0mpower_spectra\u001b[0m\u001b[0;34m,\u001b[0m \u001b[0mfreq_range\u001b[0m\u001b[0;34m)\u001b[0m\u001b[0;34m\u001b[0m\u001b[0;34m\u001b[0m\u001b[0m\n\u001b[0m\u001b[1;32m    262\u001b[0m \u001b[0;34m\u001b[0m\u001b[0m\n\u001b[1;32m    263\u001b[0m         \u001b[0;31m# If 'verbose', print out a marker of what is being run\u001b[0m\u001b[0;34m\u001b[0m\u001b[0;34m\u001b[0m\u001b[0m\n",
            "\u001b[0;32m/usr/local/lib/python3.10/dist-packages/fooof/objs/group.py\u001b[0m in \u001b[0;36madd_data\u001b[0;34m(self, freqs, power_spectra, freq_range)\u001b[0m\n\u001b[1;32m    205\u001b[0m \u001b[0;34m\u001b[0m\u001b[0m\n\u001b[1;32m    206\u001b[0m         \u001b[0mself\u001b[0m\u001b[0;34m.\u001b[0m\u001b[0mfreqs\u001b[0m\u001b[0;34m,\u001b[0m \u001b[0mself\u001b[0m\u001b[0;34m.\u001b[0m\u001b[0mpower_spectra\u001b[0m\u001b[0;34m,\u001b[0m \u001b[0mself\u001b[0m\u001b[0;34m.\u001b[0m\u001b[0mfreq_range\u001b[0m\u001b[0;34m,\u001b[0m \u001b[0mself\u001b[0m\u001b[0;34m.\u001b[0m\u001b[0mfreq_res\u001b[0m \u001b[0;34m=\u001b[0m\u001b[0;31m \u001b[0m\u001b[0;31m\\\u001b[0m\u001b[0;34m\u001b[0m\u001b[0;34m\u001b[0m\u001b[0m\n\u001b[0;32m--> 207\u001b[0;31m             \u001b[0mself\u001b[0m\u001b[0;34m.\u001b[0m\u001b[0m_prepare_data\u001b[0m\u001b[0;34m(\u001b[0m\u001b[0mfreqs\u001b[0m\u001b[0;34m,\u001b[0m \u001b[0mpower_spectra\u001b[0m\u001b[0;34m,\u001b[0m \u001b[0mfreq_range\u001b[0m\u001b[0;34m,\u001b[0m \u001b[0;36m2\u001b[0m\u001b[0;34m)\u001b[0m\u001b[0;34m\u001b[0m\u001b[0;34m\u001b[0m\u001b[0m\n\u001b[0m\u001b[1;32m    208\u001b[0m \u001b[0;34m\u001b[0m\u001b[0m\n\u001b[1;32m    209\u001b[0m \u001b[0;34m\u001b[0m\u001b[0m\n",
            "\u001b[0;32m/usr/local/lib/python3.10/dist-packages/fooof/objs/fit.py\u001b[0m in \u001b[0;36m_prepare_data\u001b[0;34m(self, freqs, power_spectrum, freq_range, spectra_dim)\u001b[0m\n\u001b[1;32m   1383\u001b[0m         \u001b[0;31m# Check that data have the right dimensionality\u001b[0m\u001b[0;34m\u001b[0m\u001b[0;34m\u001b[0m\u001b[0m\n\u001b[1;32m   1384\u001b[0m         \u001b[0;32mif\u001b[0m \u001b[0mfreqs\u001b[0m\u001b[0;34m.\u001b[0m\u001b[0mndim\u001b[0m \u001b[0;34m!=\u001b[0m \u001b[0;36m1\u001b[0m \u001b[0;32mor\u001b[0m \u001b[0;34m(\u001b[0m\u001b[0mpower_spectrum\u001b[0m\u001b[0;34m.\u001b[0m\u001b[0mndim\u001b[0m \u001b[0;34m!=\u001b[0m \u001b[0mspectra_dim\u001b[0m\u001b[0;34m)\u001b[0m\u001b[0;34m:\u001b[0m\u001b[0;34m\u001b[0m\u001b[0;34m\u001b[0m\u001b[0m\n\u001b[0;32m-> 1385\u001b[0;31m             \u001b[0;32mraise\u001b[0m \u001b[0mDataError\u001b[0m\u001b[0;34m(\u001b[0m\u001b[0;34m\"Inputs are not the right dimensions.\"\u001b[0m\u001b[0;34m)\u001b[0m\u001b[0;34m\u001b[0m\u001b[0;34m\u001b[0m\u001b[0m\n\u001b[0m\u001b[1;32m   1386\u001b[0m \u001b[0;34m\u001b[0m\u001b[0m\n\u001b[1;32m   1387\u001b[0m         \u001b[0;31m# Check that data sizes are compatible\u001b[0m\u001b[0;34m\u001b[0m\u001b[0;34m\u001b[0m\u001b[0m\n",
            "\u001b[0;31mDataError\u001b[0m: Inputs are not the right dimensions."
          ]
        }
      ]
    },
    {
      "cell_type": "code",
      "source": [
        "\n",
        "\n",
        "\n",
        "\n",
        "\n"
      ],
      "metadata": {
        "id": "2ncL2D8lt5Xv"
      },
      "execution_count": null,
      "outputs": []
    }
  ],
  "metadata": {
    "colab": {
      "provenance": [],
      "include_colab_link": true
    },
    "kernelspec": {
      "display_name": "Python 3",
      "name": "python3"
    },
    "language_info": {
      "name": "python"
    }
  },
  "nbformat": 4,
  "nbformat_minor": 0
}